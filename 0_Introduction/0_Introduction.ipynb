{
 "cells": [
  {
   "cell_type": "markdown",
   "metadata": {
    "slideshow": {
     "slide_type": "-"
    },
    "tags": []
   },
   "source": [
    "---\n",
    "<br/><br/>\n",
    "<br/><br/>\n",
    "<br/><br/>\n",
    "# B-Pro UD 2024/2025\n",
    "# Digital Skills Introduction\n",
    "BARC0053\n",
    "<br/><br/>\n",
    "<br/><br/>\n",
    "<br/><br/>"
   ]
  },
  {
   "cell_type": "markdown",
   "metadata": {
    "slideshow": {
     "slide_type": "-"
    }
   },
   "source": [
    "------------------\n",
    "<br/><br/>\n",
    "<br/><br/>\n",
    "<br/><br/>\n",
    "# Welcome\n",
    "### Julian Besems\n",
    "Design Tutor, RC11 - UD MArch\n",
    "\n",
    "Skills Module Coordinator - UD MArch\n",
    "\n",
    "\n",
    "_PhD candidate at the Chair of Digital Architectonics, ETH Zurich_\n",
    "\n",
    "<br/><br/>\n",
    "<br/><br/>\n",
    "<br/><br/>\n",
    "\n"
   ]
  },
  {
   "cell_type": "markdown",
   "metadata": {},
   "source": [
    "----\n",
    "# Session Structure\n",
    "- Feedback and questions on assignments\n",
    "- Lecture on new theory\n",
    "- Tutorial to start on the next set of assignment\n",
    "\n",
    "All material available on:\n",
    "https://github.com/JulianBesems/UD_SkillsIntroduction_2024"
   ]
  },
  {
   "cell_type": "markdown",
   "metadata": {},
   "source": [
    "----\n",
    "# Assignments\n",
    "### Preparation\n",
    "- First create a GitHub account (Use your UCL email for this)\n",
    "- Create a new PUBLIC repository named UD_Intro_LastnameFirstname (replace LastnameFirstname accordingly)\n",
    "\n",
    "### For each assignment\n",
    "- Create a new folder for that assignment titled the same as the corresponding session on the main GitHub Repo, (so for the first one: 0_Introduction)\n",
    "\n",
    "_(For an introduction to GitHub see: https://docs.github.com/en/get-started/start-your-journey/about-github-and-git . You won't need all of this functionality for this introduction, but it's very usefull to get to know it well)_\n"
   ]
  },
  {
   "cell_type": "markdown",
   "metadata": {},
   "source": [
    "----\n",
    "\n",
    "# Install Python 3.11 and jupyter notebook through Anaconda \n",
    "\n",
    "If you haven't done this yet: https://docs.anaconda.com/free/anaconda/install/index.html\n",
    "\n",
    "\n",
    "# And create an environment with Python 3.11 as version\n",
    "(https://docs.conda.io/projects/conda/en/4.6.0/_downloads/52a95608c49671267e40c689e0bc00ca/conda-cheatsheet.pdf)\n",
    "\n",
    "Make sure all your work is done within the environment to avoid installation conflicts"
   ]
  },
  {
   "cell_type": "markdown",
   "metadata": {},
   "source": [
    "---\n",
    "# HelloWorld"
   ]
  },
  {
   "cell_type": "code",
   "execution_count": null,
   "metadata": {
    "scrolled": true
   },
   "outputs": [],
   "source": [
    "print(\"Hello World!\")"
   ]
  },
  {
   "cell_type": "markdown",
   "metadata": {},
   "source": [
    "__Python is a scripting language__\n",
    "_(NOTE TO SELF: show python shell)_"
   ]
  },
  {
   "cell_type": "markdown",
   "metadata": {},
   "source": [
    "---"
   ]
  },
  {
   "cell_type": "code",
   "execution_count": 1,
   "metadata": {},
   "outputs": [
    {
     "data": {
      "text/plain": [
       "82491"
      ]
     },
     "execution_count": 1,
     "metadata": {},
     "output_type": "execute_result"
    }
   ],
   "source": [
    "5615 + 76876"
   ]
  },
  {
   "cell_type": "code",
   "execution_count": 2,
   "metadata": {},
   "outputs": [
    {
     "data": {
      "text/plain": [
       "3374066680"
      ]
     },
     "execution_count": 2,
     "metadata": {},
     "output_type": "execute_result"
    }
   ],
   "source": [
    "36382 * 92740"
   ]
  },
  {
   "cell_type": "code",
   "execution_count": 3,
   "metadata": {},
   "outputs": [
    {
     "data": {
      "text/plain": [
       "256"
      ]
     },
     "execution_count": 3,
     "metadata": {},
     "output_type": "execute_result"
    }
   ],
   "source": [
    "2**8"
   ]
  },
  {
   "cell_type": "code",
   "execution_count": 4,
   "metadata": {},
   "outputs": [
    {
     "data": {
      "text/plain": [
       "383.7"
      ]
     },
     "execution_count": 4,
     "metadata": {},
     "output_type": "execute_result"
    }
   ],
   "source": [
    "3837/10"
   ]
  },
  {
   "cell_type": "code",
   "execution_count": 5,
   "metadata": {},
   "outputs": [
    {
     "data": {
      "text/plain": [
       "383"
      ]
     },
     "execution_count": 5,
     "metadata": {},
     "output_type": "execute_result"
    }
   ],
   "source": [
    "3837//10"
   ]
  },
  {
   "cell_type": "code",
   "execution_count": 6,
   "metadata": {},
   "outputs": [
    {
     "data": {
      "text/plain": [
       "7"
      ]
     },
     "execution_count": 6,
     "metadata": {},
     "output_type": "execute_result"
    }
   ],
   "source": [
    "3837%10"
   ]
  },
  {
   "cell_type": "code",
   "execution_count": 7,
   "metadata": {},
   "outputs": [
    {
     "data": {
      "text/plain": [
       "3.141592653589793"
      ]
     },
     "execution_count": 7,
     "metadata": {},
     "output_type": "execute_result"
    }
   ],
   "source": [
    "import math\n",
    "math.pi"
   ]
  },
  {
   "cell_type": "code",
   "execution_count": 8,
   "metadata": {},
   "outputs": [
    {
     "data": {
      "text/plain": [
       "0.8939966636005579"
      ]
     },
     "execution_count": 8,
     "metadata": {},
     "output_type": "execute_result"
    }
   ],
   "source": [
    "math.sin(90)"
   ]
  },
  {
   "cell_type": "code",
   "execution_count": 9,
   "metadata": {},
   "outputs": [
    {
     "data": {
      "text/plain": [
       "1.0"
      ]
     },
     "execution_count": 9,
     "metadata": {},
     "output_type": "execute_result"
    }
   ],
   "source": [
    "math.sin(math.radians(90))"
   ]
  },
  {
   "cell_type": "markdown",
   "metadata": {},
   "source": [
    "---\n",
    "<br/><br/>\n",
    "<br/><br/>\n",
    "<br/><br/>\n",
    "# What is Programming?"
   ]
  },
  {
   "cell_type": "markdown",
   "metadata": {},
   "source": [
    "Think of an algorithm -> Express it in a certain programming language"
   ]
  },
  {
   "cell_type": "markdown",
   "metadata": {},
   "source": [
    "---\n",
    "<br/><br/>\n",
    "<br/><br/>\n",
    "<br/><br/>\n",
    "## Building blocks for algorithms\n",
    "- variables\n",
    "- operators\n",
    "- conditions\n",
    "- loops\n",
    "- functions\n",
    "- classes\n",
    "<br/><br/>\n",
    "<br/><br/>\n",
    "<br/><br/>"
   ]
  },
  {
   "cell_type": "markdown",
   "metadata": {},
   "source": [
    "---\n",
    "<br/><br/>\n",
    "# Python\n",
    "\n",
    "<img src=\"https://i.redd.it/4jp01vd2rfp51.jpg\" alt=\"drawing\" width=\"600\"/><br/><br/>\n",
    "\n",
    "__Wikipedia__:\n",
    "\"Python is an interpreted high-level general-purpose programming language.\"\n",
    "_good article if you'd like to know more:_\n",
    "https://towardsdatascience.com/how-does-python-work-6f21fd197888\n",
    "\n",
    "\n",
    "---\n",
    "- High Level programming language\n",
    "- Formatting included in syntax \n",
    "- Scripting language\n",
    "- Versatile\n",
    "- Sometimes not optimal \n",
    "- Datascience / Machine learning\n",
    "- Documentation: https://www.python.org/doc/\n",
    "\n",
    "\n",
    "<br/><br/>\n",
    "<br/><br/>"
   ]
  },
  {
   "cell_type": "markdown",
   "metadata": {},
   "source": [
    "---"
   ]
  },
  {
   "cell_type": "markdown",
   "metadata": {},
   "source": [
    "# Variables"
   ]
  },
  {
   "cell_type": "code",
   "execution_count": 11,
   "metadata": {},
   "outputs": [],
   "source": [
    "myNumber = 5"
   ]
  },
  {
   "cell_type": "markdown",
   "metadata": {},
   "source": [
    "```myNumber``` Name of variable\n",
    "\n",
    "```5``` Assigned value"
   ]
  },
  {
   "cell_type": "markdown",
   "metadata": {},
   "source": [
    "- Do not use spaces in names of variables"
   ]
  },
  {
   "cell_type": "code",
   "execution_count": 12,
   "metadata": {},
   "outputs": [
    {
     "name": "stdout",
     "output_type": "stream",
     "text": [
      "5\n"
     ]
    }
   ],
   "source": [
    "print(myNumber)"
   ]
  },
  {
   "cell_type": "code",
   "execution_count": 13,
   "metadata": {},
   "outputs": [],
   "source": [
    "myNumber = \"julian\""
   ]
  },
  {
   "cell_type": "code",
   "execution_count": 14,
   "metadata": {},
   "outputs": [
    {
     "name": "stdout",
     "output_type": "stream",
     "text": [
      "julian\n"
     ]
    }
   ],
   "source": [
    "print(myNumber)"
   ]
  },
  {
   "cell_type": "markdown",
   "metadata": {},
   "source": [
    "---"
   ]
  },
  {
   "cell_type": "markdown",
   "metadata": {},
   "source": [
    "# Elementary data types\n",
    "\n",
    "Although python is not a statically typed language, data types are still important. Keep in mind what kind of type the actual variable is, for instance by using clear variable names"
   ]
  },
  {
   "cell_type": "markdown",
   "metadata": {},
   "source": [
    "<br/><br/>\n",
    "```int``` : _integer_ , (whole numbers), ℤ"
   ]
  },
  {
   "cell_type": "code",
   "execution_count": 15,
   "metadata": {},
   "outputs": [],
   "source": [
    "myInt = 5"
   ]
  },
  {
   "cell_type": "markdown",
   "metadata": {},
   "source": [
    "<br/><br/>\n",
    "```float``` : _floating number_ , (real numbers), ℝ"
   ]
  },
  {
   "cell_type": "code",
   "execution_count": 16,
   "metadata": {},
   "outputs": [],
   "source": [
    "myFloat = 5.12"
   ]
  },
  {
   "cell_type": "markdown",
   "metadata": {},
   "source": [
    "<br/><br/>\n",
    "```bool``` : _boolean_ , (true/false)"
   ]
  },
  {
   "cell_type": "code",
   "execution_count": 17,
   "metadata": {},
   "outputs": [],
   "source": [
    "myBool = True"
   ]
  },
  {
   "cell_type": "markdown",
   "metadata": {},
   "source": [
    "<br/><br/>\n",
    "```char``` : _character_\n",
    "\n",
    "_any single symbol between ```' '``` or ```\" \"``` is a character_"
   ]
  },
  {
   "cell_type": "code",
   "execution_count": 18,
   "metadata": {},
   "outputs": [],
   "source": [
    "myChar = 'a'"
   ]
  },
  {
   "cell_type": "markdown",
   "metadata": {},
   "source": [
    "<br/><br/>\n",
    "```string``` : _sequence of characters_\n",
    "\n",
    "_any sequence of symbols between ```' '``` or ```\" \"``` is a character_"
   ]
  },
  {
   "cell_type": "code",
   "execution_count": 20,
   "metadata": {},
   "outputs": [],
   "source": [
    "myString = \"Hello World!\""
   ]
  },
  {
   "cell_type": "markdown",
   "metadata": {},
   "source": [
    "---\n",
    "# Logic operators"
   ]
  },
  {
   "cell_type": "markdown",
   "metadata": {},
   "source": [
    "<br/><br/>\n",
    "``` == ``` : Equals"
   ]
  },
  {
   "cell_type": "code",
   "execution_count": 27,
   "metadata": {},
   "outputs": [
    {
     "name": "stdout",
     "output_type": "stream",
     "text": [
      "False\n"
     ]
    }
   ],
   "source": [
    "myBool = False == True\n",
    "print(myBool)"
   ]
  },
  {
   "cell_type": "markdown",
   "metadata": {},
   "source": [
    "<br/><br/>\n",
    "``` and ``` : And"
   ]
  },
  {
   "cell_type": "code",
   "execution_count": 24,
   "metadata": {},
   "outputs": [
    {
     "name": "stdout",
     "output_type": "stream",
     "text": [
      "True\n"
     ]
    }
   ],
   "source": [
    "myBool = True and True\n",
    "print(myBool)"
   ]
  },
  {
   "cell_type": "markdown",
   "metadata": {},
   "source": [
    "<br/><br/>\n",
    "``` or ``` : Or"
   ]
  },
  {
   "cell_type": "code",
   "execution_count": 33,
   "metadata": {},
   "outputs": [
    {
     "name": "stdout",
     "output_type": "stream",
     "text": [
      "True\n"
     ]
    }
   ],
   "source": [
    "myBool = False or True\n",
    "print(myBool)"
   ]
  },
  {
   "cell_type": "markdown",
   "metadata": {},
   "source": [
    "<br/><br/>\n",
    "``` not ``` : Not"
   ]
  },
  {
   "cell_type": "code",
   "execution_count": 36,
   "metadata": {
    "scrolled": true
   },
   "outputs": [
    {
     "name": "stdout",
     "output_type": "stream",
     "text": [
      "False\n"
     ]
    }
   ],
   "source": [
    "myBool = not True\n",
    "print(myBool)"
   ]
  },
  {
   "cell_type": "markdown",
   "metadata": {},
   "source": [
    "<br/><br/>\n",
    "``` != ``` : Not Equals"
   ]
  },
  {
   "cell_type": "code",
   "execution_count": 39,
   "metadata": {
    "scrolled": true
   },
   "outputs": [
    {
     "name": "stdout",
     "output_type": "stream",
     "text": [
      "True\n"
     ]
    }
   ],
   "source": [
    "myBool = True != False\n",
    "print(myBool)"
   ]
  },
  {
   "cell_type": "code",
   "execution_count": 40,
   "metadata": {},
   "outputs": [
    {
     "data": {
      "text/plain": [
       "True"
      ]
     },
     "execution_count": 40,
     "metadata": {},
     "output_type": "execute_result"
    }
   ],
   "source": [
    "not(True == False)"
   ]
  },
  {
   "cell_type": "code",
   "execution_count": 43,
   "metadata": {},
   "outputs": [
    {
     "data": {
      "text/plain": [
       "True"
      ]
     },
     "execution_count": 43,
     "metadata": {},
     "output_type": "execute_result"
    }
   ],
   "source": [
    "True == True"
   ]
  },
  {
   "cell_type": "markdown",
   "metadata": {},
   "source": [
    "---\n",
    "<br/><br/>\n",
    "<br/><br/>\n",
    "## Order Operators\n"
   ]
  },
  {
   "cell_type": "markdown",
   "metadata": {},
   "source": [
    "```==``` : Equals"
   ]
  },
  {
   "cell_type": "code",
   "execution_count": 47,
   "metadata": {},
   "outputs": [
    {
     "data": {
      "text/plain": [
       "True"
      ]
     },
     "execution_count": 47,
     "metadata": {},
     "output_type": "execute_result"
    }
   ],
   "source": [
    "2987987987==2987987987"
   ]
  },
  {
   "cell_type": "markdown",
   "metadata": {},
   "source": [
    "```!=``` : Not Equals"
   ]
  },
  {
   "cell_type": "code",
   "execution_count": 46,
   "metadata": {},
   "outputs": [
    {
     "data": {
      "text/plain": [
       "True"
      ]
     },
     "execution_count": 46,
     "metadata": {},
     "output_type": "execute_result"
    }
   ],
   "source": [
    "1!=2"
   ]
  },
  {
   "cell_type": "markdown",
   "metadata": {},
   "source": [
    "```<``` : Less than"
   ]
  },
  {
   "cell_type": "code",
   "execution_count": 49,
   "metadata": {},
   "outputs": [
    {
     "data": {
      "text/plain": [
       "True"
      ]
     },
     "execution_count": 49,
     "metadata": {},
     "output_type": "execute_result"
    }
   ],
   "source": [
    "2<3"
   ]
  },
  {
   "cell_type": "markdown",
   "metadata": {},
   "source": [
    "```>``` : Greater than"
   ]
  },
  {
   "cell_type": "code",
   "execution_count": 50,
   "metadata": {},
   "outputs": [
    {
     "data": {
      "text/plain": [
       "True"
      ]
     },
     "execution_count": 50,
     "metadata": {},
     "output_type": "execute_result"
    }
   ],
   "source": [
    "3>2"
   ]
  },
  {
   "cell_type": "markdown",
   "metadata": {},
   "source": [
    "```<=``` : Less than or equal"
   ]
  },
  {
   "cell_type": "code",
   "execution_count": 52,
   "metadata": {},
   "outputs": [
    {
     "data": {
      "text/plain": [
       "True"
      ]
     },
     "execution_count": 52,
     "metadata": {},
     "output_type": "execute_result"
    }
   ],
   "source": [
    "2.01<=3"
   ]
  },
  {
   "cell_type": "markdown",
   "metadata": {},
   "source": [
    "```>=``` : Greater than or equal"
   ]
  },
  {
   "cell_type": "code",
   "execution_count": 53,
   "metadata": {},
   "outputs": [
    {
     "data": {
      "text/plain": [
       "False"
      ]
     },
     "execution_count": 53,
     "metadata": {},
     "output_type": "execute_result"
    }
   ],
   "source": [
    "1>=2"
   ]
  },
  {
   "cell_type": "markdown",
   "metadata": {},
   "source": [
    "---\n",
    "<br/><br/>\n",
    "# Text based operations\n",
    "## Write some text\n",
    "\n",
    "```print()```"
   ]
  },
  {
   "cell_type": "markdown",
   "metadata": {},
   "source": [
    "---\n",
    "## Read some text\n",
    "\n",
    "```input()```"
   ]
  },
  {
   "cell_type": "markdown",
   "metadata": {},
   "source": [
    "---\n",
    "## Combine strings\n",
    "\n",
    "Concatenating strings together can simply be done by addition through the ```+``` operator.\n",
    "\n",
    "_Notice how operators can operate on different types!_"
   ]
  },
  {
   "cell_type": "code",
   "execution_count": 54,
   "metadata": {},
   "outputs": [
    {
     "name": "stdout",
     "output_type": "stream",
     "text": [
      "Some String\n"
     ]
    }
   ],
   "source": [
    "stringA = \"Some\"\n",
    "stringB = \"String\"\n",
    "phrase = stringA + ' ' + stringB\n",
    "\n",
    "print(phrase)"
   ]
  },
  {
   "cell_type": "markdown",
   "metadata": {},
   "source": [
    "_Since strings are essentially arrays of characters, ```+``` can also be used to add characters to strings:_"
   ]
  },
  {
   "cell_type": "code",
   "execution_count": 56,
   "metadata": {},
   "outputs": [
    {
     "name": "stdout",
     "output_type": "stream",
     "text": [
      "Hello     world!\n"
     ]
    }
   ],
   "source": [
    "print(\"Hello\" + '     ' + \"world\" + '!')"
   ]
  },
  {
   "cell_type": "markdown",
   "metadata": {},
   "source": [
    "_In python there is actually no real distinction between notation of string and characters:_"
   ]
  },
  {
   "cell_type": "code",
   "execution_count": 57,
   "metadata": {},
   "outputs": [
    {
     "name": "stdout",
     "output_type": "stream",
     "text": [
      "hello\n"
     ]
    }
   ],
   "source": [
    "helloText = 'hello'\n",
    "print(helloText)"
   ]
  },
  {
   "cell_type": "code",
   "execution_count": 61,
   "metadata": {},
   "outputs": [
    {
     "name": "stdout",
     "output_type": "stream",
     "text": [
      "julian said \"there is no real difference between them\"\n"
     ]
    }
   ],
   "source": [
    "print('julian said \"there is no real difference between them\"')"
   ]
  },
  {
   "cell_type": "markdown",
   "metadata": {},
   "source": [
    "_As said before, python is not a statically typed language, but types still matter:_"
   ]
  },
  {
   "cell_type": "code",
   "execution_count": 1,
   "metadata": {},
   "outputs": [
    {
     "name": "stdout",
     "output_type": "stream",
     "text": [
      "There are 100Students\n"
     ]
    }
   ],
   "source": [
    "print(\"There are \" + str(100) + \"Students\")"
   ]
  },
  {
   "cell_type": "code",
   "execution_count": null,
   "metadata": {},
   "outputs": [],
   "source": []
  },
  {
   "cell_type": "markdown",
   "metadata": {},
   "source": [
    "_So types can be translated from one to another_"
   ]
  },
  {
   "cell_type": "code",
   "execution_count": 63,
   "metadata": {},
   "outputs": [
    {
     "name": "stdout",
     "output_type": "stream",
     "text": [
      "There are 100 Students\n"
     ]
    }
   ],
   "source": [
    "print(\"There are \" + str(100) + \" Students\")"
   ]
  },
  {
   "cell_type": "markdown",
   "metadata": {},
   "source": [
    "_and vice versa_"
   ]
  },
  {
   "cell_type": "code",
   "execution_count": 2,
   "metadata": {},
   "outputs": [
    {
     "name": "stdout",
     "output_type": "stream",
     "text": [
      "150\n"
     ]
    }
   ],
   "source": [
    "print(100 + 50)"
   ]
  },
  {
   "cell_type": "code",
   "execution_count": 5,
   "metadata": {},
   "outputs": [
    {
     "name": "stdin",
     "output_type": "stream",
     "text": [
      " babi\n"
     ]
    }
   ],
   "source": [
    "user_input = input()"
   ]
  },
  {
   "cell_type": "code",
   "execution_count": null,
   "metadata": {},
   "outputs": [],
   "source": []
  },
  {
   "cell_type": "code",
   "execution_count": 6,
   "metadata": {},
   "outputs": [
    {
     "name": "stdout",
     "output_type": "stream",
     "text": [
      "babi\n"
     ]
    }
   ],
   "source": [
    "print(user_input)"
   ]
  },
  {
   "cell_type": "code",
   "execution_count": null,
   "metadata": {},
   "outputs": [],
   "source": []
  },
  {
   "cell_type": "code",
   "execution_count": null,
   "metadata": {},
   "outputs": [],
   "source": []
  },
  {
   "cell_type": "markdown",
   "metadata": {},
   "source": [
    "_So:_"
   ]
  },
  {
   "cell_type": "code",
   "execution_count": 65,
   "metadata": {},
   "outputs": [
    {
     "name": "stdout",
     "output_type": "stream",
     "text": [
      "150\n"
     ]
    }
   ],
   "source": [
    "print(100 + int('50'))"
   ]
  },
  {
   "cell_type": "markdown",
   "metadata": {},
   "source": [
    "_Read input_"
   ]
  },
  {
   "cell_type": "markdown",
   "metadata": {},
   "source": [
    "---\n",
    "## Short note on Jupyter Notebooks\n",
    "\n",
    "Very useful for making documents with code in it. Alternating between text cells (\"Markdown\") and code cells. \n",
    "\n",
    "__Whilst a notebook is running, variables will be stored accross cells__"
   ]
  },
  {
   "cell_type": "code",
   "execution_count": null,
   "metadata": {},
   "outputs": [],
   "source": [
    "print(stringA)"
   ]
  },
  {
   "cell_type": "markdown",
   "metadata": {},
   "source": [
    "Contrary to a jupyter notebook where the code is run within cells, you can also create ```.py``` files which can be run from the command line.\n",
    "\n",
    "https://realpython.com/run-python-scripts/"
   ]
  },
  {
   "cell_type": "markdown",
   "metadata": {},
   "source": [
    "---\n",
    "<br/><br/>\n",
    "# Conditions\n"
   ]
  },
  {
   "cell_type": "markdown",
   "metadata": {},
   "source": [
    "<br/><br/>\n",
    "```if```: Test if something fulfills a boolean statement\n",
    "\n",
    "```python\n",
    "if booleanStatement:\n",
    "    execute_this\n",
    "    and_this\n",
    "    .\n",
    "    .\n",
    "\n",
    "```"
   ]
  },
  {
   "cell_type": "code",
   "execution_count": 16,
   "metadata": {},
   "outputs": [
    {
     "name": "stdout",
     "output_type": "stream",
     "text": [
      "The Condition is True\n"
     ]
    }
   ],
   "source": [
    "if 1 < 2:\n",
    "     print(\"The Condition is True\")"
   ]
  },
  {
   "cell_type": "code",
   "execution_count": null,
   "metadata": {},
   "outputs": [],
   "source": []
  },
  {
   "cell_type": "code",
   "execution_count": null,
   "metadata": {},
   "outputs": [],
   "source": []
  },
  {
   "cell_type": "markdown",
   "metadata": {},
   "source": [
    "```if```: the if condition\n",
    "\n",
    "```1<2```: the condition\n",
    "\n",
    "```:```: signifies end of condition and start of indent block\n",
    "\n",
    "```.    print(...)```: any code indented is within the condition\n",
    "\n",
    "In python there are no {} used for this, instead indentation is key!!\n",
    "\n",
    "Everything indented after the ```:``` is part of the statements, and will be executed if the condition holds\n"
   ]
  },
  {
   "cell_type": "code",
   "execution_count": 22,
   "metadata": {},
   "outputs": [
    {
     "name": "stdout",
     "output_type": "stream",
     "text": [
      "the statement is true\n",
      "still part of the condition\n",
      "not part of it\n"
     ]
    }
   ],
   "source": [
    "someBoolean = True\n",
    "\n",
    "if someBoolean:\n",
    "    print('the statement is true')\n",
    "    print('still part of the condition')\n",
    "    print('not part of it')"
   ]
  },
  {
   "cell_type": "markdown",
   "metadata": {},
   "source": [
    "<br/><br/>\n",
    "```else```: Used in combination with if, and defines what to do in case the if condition is false."
   ]
  },
  {
   "cell_type": "code",
   "execution_count": 24,
   "metadata": {},
   "outputs": [
    {
     "name": "stdout",
     "output_type": "stream",
     "text": [
      "The Condition is True\n"
     ]
    }
   ],
   "source": [
    "if(2 > 1):\n",
    "    print(\"The Condition is True\")\n",
    "else:\n",
    "    print(\"The Condition is False\")"
   ]
  },
  {
   "cell_type": "markdown",
   "metadata": {},
   "source": [
    "<br/><br/>\n",
    "```elif```: Combination of if else for multiple conditions"
   ]
  },
  {
   "cell_type": "code",
   "execution_count": null,
   "metadata": {},
   "outputs": [],
   "source": [
    "n1 = 3\n",
    "n2 = 3\n",
    "\n",
    "if n1<n2:\n",
    "    print('number 1 is smaller than number 2')\n",
    "elif n1 > n2:\n",
    "    print('number 1 is larger than number 2')\n",
    "else:\n",
    "    print('number 1 and number 2 are equal')"
   ]
  },
  {
   "cell_type": "markdown",
   "metadata": {},
   "source": [
    "<br/><br/>\n",
    "_keep in mind, as long as there is an indent the statements can be as long and elaborate as you want_"
   ]
  },
  {
   "cell_type": "code",
   "execution_count": null,
   "metadata": {},
   "outputs": [],
   "source": [
    "n = 8\n",
    "\n",
    "if(n>0):\n",
    "    if(n%2 == 0):\n",
    "        print(\"n is an even positive number\")\n",
    "    else:\n",
    "        print(\"n is an odd positive number\")\n",
    "else:\n",
    "    print('n is negative')\n",
    "    print('I could test if this is also negative odd or even, but then I should really just write a better algorithm :)')"
   ]
  },
  {
   "cell_type": "markdown",
   "metadata": {},
   "source": [
    "<br/><br/>\n",
    "__As long as there is a condition between ```if``` and ```:``` it is valid__\n",
    "\n",
    "_So any type of order or logic operation is valid, or multiple combinations thereof:_\n",
    "\n",
    "```1 == 2```\n",
    "```boolA and boolB```\n",
    "```boolA or boolB```\n",
    "```not someBool```"
   ]
  },
  {
   "cell_type": "markdown",
   "metadata": {},
   "source": [
    "<font color='red'>Which one is different and why?</font>"
   ]
  },
  {
   "cell_type": "markdown",
   "metadata": {},
   "source": [
    "---\n",
    "<br/><br/>\n",
    "# Loops\n"
   ]
  },
  {
   "cell_type": "markdown",
   "metadata": {},
   "source": [
    "<br/><br/>\n",
    "__While__: Keep on performing a statement until a condition is not true anymore\n",
    "\n",
    "```python\n",
    "while(someBoolean):\n",
    "    someStatement\n",
    "```\n",
    "\n",
    "```someBoolean``` : The condition that needs to be satisfied at the start of each iteration\n",
    "\n",
    "```someStatement``` : What needs to be done each time  the condition is true"
   ]
  },
  {
   "cell_type": "code",
   "execution_count": null,
   "metadata": {},
   "outputs": [],
   "source": [
    "n1 = 0\n",
    "n2 = 3\n",
    "\n",
    "while (n1 < n2):\n",
    "    print('number 1 in still smaller')\n",
    "    print(n1)\n",
    "    n1+=2\n",
    "    print('current value of n1: ' + str(n1))\n",
    "    print('current value of n2: ' + str(n2))\n",
    "    print(' ')\n",
    "print('n1 is not smaller than n2 anymore:' + str(n1) + ', ' + str(n2))"
   ]
  },
  {
   "cell_type": "markdown",
   "metadata": {},
   "source": [
    "__Be careful for infinite loops!! if the conditions remains true forever, the loop will also go on forever.__"
   ]
  },
  {
   "cell_type": "code",
   "execution_count": null,
   "metadata": {},
   "outputs": [],
   "source": [
    "n1 = 0\n",
    "n2 = 1\n",
    "\n",
    "while n1<50:\n",
    "    print(n1)\n",
    "    m = n1 + n2\n",
    "    n1 = n2\n",
    "    n2 = m"
   ]
  },
  {
   "cell_type": "markdown",
   "metadata": {},
   "source": [
    "\n",
    "---\n",
    "<br/><br/>\n",
    "__For__: iterate over a sequence\n",
    "\n",
    "```python\n",
    "for x in sequence:\n",
    "    someStatement\n",
    "```\n",
    "\n",
    "```x``` : the iterator variable\n",
    "\n",
    "```sequence``` : some sort of sequential data structure, such as a list, tuple, dictionary, set or a string\n",
    "\n",
    "```someStatement```: the statement that is to be performed, usually making use of ```x```"
   ]
  },
  {
   "cell_type": "code",
   "execution_count": null,
   "metadata": {},
   "outputs": [],
   "source": [
    "for i in range(10):\n",
    "    print(i)"
   ]
  },
  {
   "cell_type": "code",
   "execution_count": null,
   "metadata": {},
   "outputs": [],
   "source": [
    "for char in 'some String':\n",
    "    print(char)"
   ]
  },
  {
   "cell_type": "code",
   "execution_count": null,
   "metadata": {},
   "outputs": [],
   "source": [
    "for fruit in ['apple', 'pear', 'banana']:\n",
    "    print(fruit)"
   ]
  },
  {
   "cell_type": "code",
   "execution_count": null,
   "metadata": {},
   "outputs": [],
   "source": [
    "for fruit in ['apple', 'pear', 'banana']:\n",
    "    for x in fruit:\n",
    "        print(x)\n",
    "    print(fruit)\n",
    "    print('---------')"
   ]
  },
  {
   "cell_type": "markdown",
   "metadata": {},
   "source": [
    "__A bit more on range:__"
   ]
  },
  {
   "cell_type": "markdown",
   "metadata": {},
   "source": [
    "$[v1,v2)$"
   ]
  },
  {
   "cell_type": "code",
   "execution_count": null,
   "metadata": {},
   "outputs": [],
   "source": [
    "for i in range(5,10):\n",
    "    print(i)"
   ]
  },
  {
   "cell_type": "code",
   "execution_count": null,
   "metadata": {},
   "outputs": [],
   "source": [
    "for i in range(0,10,3):\n",
    "    print(i)"
   ]
  },
  {
   "cell_type": "code",
   "execution_count": null,
   "metadata": {},
   "outputs": [],
   "source": [
    "for i in range(10,0,-1):\n",
    "    print(i)"
   ]
  },
  {
   "cell_type": "code",
   "execution_count": null,
   "metadata": {},
   "outputs": [],
   "source": [
    "for i in range(0,5,0.5):\n",
    "    print(i)"
   ]
  },
  {
   "cell_type": "code",
   "execution_count": null,
   "metadata": {},
   "outputs": [],
   "source": [
    "for i in range(0,10):\n",
    "    print(i/2)"
   ]
  },
  {
   "cell_type": "code",
   "execution_count": null,
   "metadata": {},
   "outputs": [],
   "source": [
    "range(10)"
   ]
  },
  {
   "cell_type": "code",
   "execution_count": null,
   "metadata": {},
   "outputs": [],
   "source": [
    "list(range(10))"
   ]
  },
  {
   "cell_type": "markdown",
   "metadata": {},
   "source": [
    "<br/><br/>\n",
    "## What's the output of this piece of code??"
   ]
  },
  {
   "cell_type": "code",
   "execution_count": null,
   "metadata": {},
   "outputs": [],
   "source": [
    "a = 0\n",
    "b = 1\n",
    "n = 60\n",
    "\n",
    "for i in range(n):\n",
    "    t = a\n",
    "    a = b\n",
    "    b = t+b\n",
    "    print(a)"
   ]
  },
  {
   "cell_type": "markdown",
   "metadata": {},
   "source": [
    "---\n",
    "<br/><br/>\n",
    "# External resources\n",
    "\n",
    "__Stack Overflow__: https://stackoverflow.com (easier to look for the problem on google and find the stackoverflow link there)\n",
    "\n",
    "__Python documentation__: https://docs.python.org/3.8/"
   ]
  },
  {
   "cell_type": "markdown",
   "metadata": {},
   "source": [
    "---\n",
    "<br/><br/>\n",
    "# For Wednesday\n",
    "\n",
    "- Install Anaconda\n",
    "- Complete the first set of exercises\n",
    "- Watch the recorded lecture\n",
    "- Complete the second set of exercises\n"
   ]
  },
  {
   "cell_type": "markdown",
   "metadata": {},
   "source": [
    "## Run to check if the output is correct!"
   ]
  },
  {
   "cell_type": "markdown",
   "metadata": {},
   "source": [
    "---\n",
    "<br/><br/>\n",
    "# Where can it go wrong?\n",
    "\n",
    "__Runtime Error__ : The algorithm isn't correct  __:(__\n",
    "\n",
    "__Syntax Error__ : The formulation isn't correct  __:)__\n",
    "\n",
    "\n",
    "\n",
    "\n",
    "<img src=\"https://raw.githubusercontent.com/JulianBesems/UD_IntroProject2021/main/2_Algorithms/ImagesSlides2/1_error.png\" alt=\"drawing\" width=\"600\"/><br/><br/>\n",
    "<br/><br/>\n",
    "<br/><br/>\n",
    "\n",
    "----\n",
    "<br/><br/>\n",
    "# Debugging\n",
    "\n",
    "__If the program doesn't do what you want, check along the way:__\n",
    "\n",
    "_Add print statments_ - in python 3:\n",
    "\n",
    "``` print(\"some text\")```"
   ]
  },
  {
   "cell_type": "markdown",
   "metadata": {},
   "source": [
    "# Keep everything in any code file in ENGLISH!! \n",
    "\n",
    "It causes problems if you're using any non roman alphabet characters, also especially in the filenames!! \n",
    "\n",
    "So get used to this. Additionally it's easier to get help :)\n",
    "\n",
    "This also goes for any other programs you will use in the degree. It often happens you will have to send packaged indesign or premiere pro projects, and if file names are in for instance chinese this causes issues if opened on other computers."
   ]
  }
 ],
 "metadata": {
  "kernelspec": {
   "display_name": "Python 3 (ipykernel)",
   "language": "python",
   "name": "python3"
  },
  "language_info": {
   "codemirror_mode": {
    "name": "ipython",
    "version": 3
   },
   "file_extension": ".py",
   "mimetype": "text/x-python",
   "name": "python",
   "nbconvert_exporter": "python",
   "pygments_lexer": "ipython3",
   "version": "3.11.10"
  }
 },
 "nbformat": 4,
 "nbformat_minor": 4
}
