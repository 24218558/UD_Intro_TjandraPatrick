{
 "cells": [
  {
   "cell_type": "markdown",
   "id": "529d91ae",
   "metadata": {
    "tags": []
   },
   "source": [
    "# Exercise 00\n",
    "Write a bit of code that prints _Introduction to Programming_ to the console and execute the cell"
   ]
  },
  {
   "cell_type": "code",
   "execution_count": 1,
   "id": "98711beb",
   "metadata": {},
   "outputs": [
    {
     "name": "stdout",
     "output_type": "stream",
     "text": [
      "Introduction to Programming\n"
     ]
    }
   ],
   "source": [
    "print(\"Introduction to Programming\")"
   ]
  },
  {
   "cell_type": "markdown",
   "id": "63ad5023",
   "metadata": {},
   "source": [
    "-----------------------------------------------------------------------------\n",
    "# Exercise 01\n",
    "Hello World is traditionally the first program anyone writes. It is\n",
    "very simple and the only thing it should do is print Hello World! to the\n",
    "terminal window.\n",
    "Create a file called HelloWorld.py and edit the contents so it prints Hello World! to the terminal and execute it using the command line."
   ]
  },
  {
   "cell_type": "code",
   "execution_count": 2,
   "id": "4075082b-95bf-486f-9abe-d5c614dcb260",
   "metadata": {},
   "outputs": [
    {
     "name": "stdout",
     "output_type": "stream",
     "text": [
      "Hello World!\n"
     ]
    }
   ],
   "source": [
    "print(\"Hello World!\")"
   ]
  },
  {
   "cell_type": "markdown",
   "id": "a4a7c4c2",
   "metadata": {},
   "source": [
    "-----------------------------------------------------------------------------\n",
    "# Exercise 02\n",
    "Write some code to print your name, email, and age on separate lines. For each element first assign it to a variable and use the variable to print. \n",
    "\n",
    "Bonus: try to create the print statement for all variable in one line of code. (hint: '\\n' is the character for a new line)"
   ]
  },
  {
   "cell_type": "code",
   "execution_count": 3,
   "id": "fc8fface",
   "metadata": {},
   "outputs": [
    {
     "name": "stdout",
     "output_type": "stream",
     "text": [
      "Patrick\n",
      "ucbvppt@ucl.ac.uk\n",
      "26\n"
     ]
    }
   ],
   "source": [
    "myID = [\"Patrick\", \"ucbvppt@ucl.ac.uk\", \"26\"]\n",
    "for part in myID:\n",
    "    print(part)"
   ]
  },
  {
   "cell_type": "markdown",
   "id": "0dd1c1d1",
   "metadata": {},
   "source": [
    "-----------------------------------------------------------------------------\n",
    "# Exercise 03\n",
    "Print the numbers 0, 178, -21, 2938 divided by 49, 436 multiplied with 9948 and 12 to the power of 20\n",
    "\n",
    "(Hint: Look up the documentation of basic arithmetic operators)"
   ]
  },
  {
   "cell_type": "code",
   "execution_count": 6,
   "id": "fe286901-3e54-48c3-8b1b-44cac21037c1",
   "metadata": {},
   "outputs": [
    {
     "data": {
      "text/plain": [
       "0"
      ]
     },
     "execution_count": 6,
     "metadata": {},
     "output_type": "execute_result"
    }
   ],
   "source": [
    "0"
   ]
  },
  {
   "cell_type": "code",
   "execution_count": 8,
   "id": "cedcd3a8-6ece-432b-8f63-941e478589a6",
   "metadata": {},
   "outputs": [
    {
     "data": {
      "text/plain": [
       "178"
      ]
     },
     "execution_count": 8,
     "metadata": {},
     "output_type": "execute_result"
    }
   ],
   "source": [
    "178"
   ]
  },
  {
   "cell_type": "code",
   "execution_count": 9,
   "id": "9af1d1d8-b070-4291-a267-faf7db9771e6",
   "metadata": {},
   "outputs": [
    {
     "data": {
      "text/plain": [
       "59.95918367346939"
      ]
     },
     "execution_count": 9,
     "metadata": {},
     "output_type": "execute_result"
    }
   ],
   "source": [
    "2938/49"
   ]
  },
  {
   "cell_type": "code",
   "execution_count": 10,
   "id": "3248c01d-a33c-46f3-920a-e186122961be",
   "metadata": {},
   "outputs": [
    {
     "data": {
      "text/plain": [
       "4337328"
      ]
     },
     "execution_count": 10,
     "metadata": {},
     "output_type": "execute_result"
    }
   ],
   "source": [
    "436*9948"
   ]
  },
  {
   "cell_type": "code",
   "execution_count": 11,
   "id": "e0c43642-f62c-43da-996c-3c241771f7b4",
   "metadata": {},
   "outputs": [
    {
     "data": {
      "text/plain": [
       "3833759992447475122176"
      ]
     },
     "execution_count": 11,
     "metadata": {},
     "output_type": "execute_result"
    }
   ],
   "source": [
    "12**20"
   ]
  },
  {
   "cell_type": "markdown",
   "id": "1f151455",
   "metadata": {},
   "source": [
    "-----------------------------------------------------------------------------\n",
    "# Exercise 04\n",
    "Print sin(200), cos(100), tan($\\pi$/4)\n",
    "\n",
    "(Hint: Look up for how to use trigonometric function, and how to get the value of $\\pi$.)"
   ]
  },
  {
   "cell_type": "code",
   "execution_count": 15,
   "id": "d0e37690",
   "metadata": {},
   "outputs": [],
   "source": [
    "import math"
   ]
  },
  {
   "cell_type": "code",
   "execution_count": 16,
   "id": "f087fb14-d41d-4af0-9575-48c13ef4b5a8",
   "metadata": {},
   "outputs": [
    {
     "data": {
      "text/plain": [
       "-0.8732972972139946"
      ]
     },
     "execution_count": 16,
     "metadata": {},
     "output_type": "execute_result"
    }
   ],
   "source": [
    "math.sin(200)"
   ]
  },
  {
   "cell_type": "code",
   "execution_count": 17,
   "id": "5975e229-1e5c-4690-9930-2f6e8b9e248a",
   "metadata": {},
   "outputs": [
    {
     "data": {
      "text/plain": [
       "0.8623188722876839"
      ]
     },
     "execution_count": 17,
     "metadata": {},
     "output_type": "execute_result"
    }
   ],
   "source": [
    "math.cos(100)"
   ]
  },
  {
   "cell_type": "code",
   "execution_count": 18,
   "id": "032be40b-4308-4128-b24c-d8e7a3521665",
   "metadata": {},
   "outputs": [
    {
     "data": {
      "text/plain": [
       "0.9999999999999999"
      ]
     },
     "execution_count": 18,
     "metadata": {},
     "output_type": "execute_result"
    }
   ],
   "source": [
    "math.tan(math.pi/4)"
   ]
  },
  {
   "cell_type": "markdown",
   "id": "9d026820",
   "metadata": {},
   "source": [
    "-----------------------------------------------------------------------------\n",
    "# Exercise 05\n",
    "Write a program to read your first and last names from the console seperately, and then print them on the console together, separated by a space."
   ]
  },
  {
   "cell_type": "code",
   "execution_count": 20,
   "id": "4c7217e0",
   "metadata": {},
   "outputs": [
    {
     "name": "stdout",
     "output_type": "stream",
     "text": [
      "Patrick Padua Tjandra\n"
     ]
    }
   ],
   "source": [
    "FirstName = \"Patrick Padua\"\n",
    "Surname = \"Tjandra\"\n",
    "Name = FirstName + \" \" + Surname\n",
    "print(Name)"
   ]
  },
  {
   "cell_type": "markdown",
   "id": "e83fa346",
   "metadata": {},
   "source": [
    "-----------------------------------------------------------------------------\n",
    "# Exercise 06\n",
    "Write a program that determines whether a number given as user input is positive or negative\n",
    " \n",
    "You will need to convert the console input from a string to a number first!"
   ]
  },
  {
   "cell_type": "code",
   "execution_count": 29,
   "id": "ecd924c2",
   "metadata": {},
   "outputs": [
    {
     "name": "stdin",
     "output_type": "stream",
     "text": [
      " 24\n"
     ]
    },
    {
     "name": "stdout",
     "output_type": "stream",
     "text": [
      " is a positive number.\n"
     ]
    }
   ],
   "source": [
    "NumberInput = float(input())\n",
    "if NumberInput > 0:\n",
    "    print(\" is a positive number.\")\n",
    "elif NumberInput == 0:\n",
    "    print(\" is zero. (Zero is neither positive nor negative.\")\n",
    "else:\n",
    "    print(\" is a negative number.\")"
   ]
  },
  {
   "cell_type": "markdown",
   "id": "2a192596",
   "metadata": {},
   "source": [
    "-----------------------------------------------------------------------------\n",
    "# Exercise 07\n",
    "Write a program that picks a random number between 1-20 and makes the user guess until they get the number right. Then print a congratulations message\n",
    "- (Find out yourself how to generate a random integer)\n",
    "- Bonus: make the user choose the range within which they have to guess\n",
    "- Bonus: keep track of how many guesses were made and print this at the end"
   ]
  },
  {
   "cell_type": "code",
   "execution_count": 30,
   "id": "70358dd3",
   "metadata": {},
   "outputs": [],
   "source": [
    "import random"
   ]
  },
  {
   "cell_type": "code",
   "execution_count": 33,
   "id": "e4d39004-e294-4d82-b870-a8aedc5ccefe",
   "metadata": {},
   "outputs": [
    {
     "name": "stdout",
     "output_type": "stream",
     "text": [
      "56\n"
     ]
    }
   ],
   "source": [
    "NumberList = random.randint(1,100)\n",
    "print(NumberList)"
   ]
  },
  {
   "cell_type": "code",
   "execution_count": 38,
   "id": "173e5eeb-ba0f-436a-b534-ceb1dac6c0d8",
   "metadata": {},
   "outputs": [
    {
     "name": "stdout",
     "output_type": "stream",
     "text": [
      "Try the code until it matches the random number.\n"
     ]
    }
   ],
   "source": [
    "print(\"Try the code until it matches the random number.\")"
   ]
  },
  {
   "cell_type": "code",
   "execution_count": 42,
   "id": "d4e8bcaa-bc9c-4b11-8205-9395b967568d",
   "metadata": {},
   "outputs": [
    {
     "name": "stdout",
     "output_type": "stream",
     "text": [
      "Enter your number below:\n"
     ]
    },
    {
     "name": "stdin",
     "output_type": "stream",
     "text": [
      " 30\n"
     ]
    },
    {
     "name": "stdout",
     "output_type": "stream",
     "text": [
      "Your guess is smaller!\n",
      "Enter your number below:\n"
     ]
    },
    {
     "name": "stdin",
     "output_type": "stream",
     "text": [
      " 60\n"
     ]
    },
    {
     "name": "stdout",
     "output_type": "stream",
     "text": [
      "Your guess is bigger!\n",
      "Enter your number below:\n"
     ]
    },
    {
     "name": "stdin",
     "output_type": "stream",
     "text": [
      " 56\n"
     ]
    },
    {
     "name": "stdout",
     "output_type": "stream",
     "text": [
      "Perfect!\n",
      "You tried: 3 times.\n"
     ]
    }
   ],
   "source": [
    "for choose in range(1,100): \n",
    "    print(\"Enter your number below:\")\n",
    "    guess = int(input())\n",
    "\n",
    "    if guess < NumberList:\n",
    "        print(\"Your guess is smaller!\")\n",
    "    elif guess > NumberList:\n",
    "        print(\"Your guess is bigger!\")\n",
    "    else:\n",
    "        break\n",
    "\n",
    "if guess == NumberList:\n",
    "    print (\"Perfect!\")\n",
    "    print (\"You tried: \" + str(choose) + \" times.\")    "
   ]
  },
  {
   "cell_type": "markdown",
   "id": "d53b9c07",
   "metadata": {},
   "source": [
    "-----------------------------------------------------------------------------\n",
    "# Exercise 08\n",
    "Ask a sentence as input, then print the words in alphabetical order.\n",
    "Hint: look up how to split up a string"
   ]
  },
  {
   "cell_type": "code",
   "execution_count": 47,
   "id": "b6524cf5",
   "metadata": {},
   "outputs": [
    {
     "name": "stdin",
     "output_type": "stream",
     "text": [
      "Enter a sentence:  I rode my bike to the University\n"
     ]
    },
    {
     "name": "stdout",
     "output_type": "stream",
     "text": [
      "Words in Alphabetical Order:['bike', 'i', 'my', 'rode', 'the', 'to', 'university']\n"
     ]
    }
   ],
   "source": [
    "SentenceInput = str(input(\"Enter a sentence: \"))\n",
    "Lowercase = SentenceInput.lower( )\n",
    "Word = Lowercase.split( )\n",
    "Arrange = sorted(Word)\n",
    "print(\"Words in Alphabetical Order:\" + str(Arrange))"
   ]
  },
  {
   "cell_type": "markdown",
   "id": "09a7b060",
   "metadata": {},
   "source": [
    "-----------------------------------------------------------------------------\n",
    "# Exercise 09\n",
    "Write a program using for loops to print a christmas tree of x lines high\n",
    "specified by the user.\n",
    "(use for loops)\n",
    "so for instance, a chrismas tree of 4 high should looks like this:\n",
    "\n",
    "```\n",
    "\n",
    "    *\n",
    "   ***\n",
    "  *****\n",
    " *******\n",
    "    |\n",
    "\n",
    "```\n",
    "\n",
    "hint: first combine strings into a variable before printing"
   ]
  },
  {
   "cell_type": "code",
   "execution_count": 56,
   "id": "5150f7a4",
   "metadata": {},
   "outputs": [
    {
     "name": "stdin",
     "output_type": "stream",
     "text": [
      "Input your tree height:  4\n"
     ]
    },
    {
     "name": "stdout",
     "output_type": "stream",
     "text": [
      "   *\n",
      "  ***\n",
      " *****\n",
      "*******\n",
      "   |\n"
     ]
    }
   ],
   "source": [
    "High = int(input(\"Input your tree height: \"))\n",
    "for tall in range(1, High + 1):\n",
    "    Blank = \" \" * (High - tall) \n",
    "    Leaf = \"*\" * (tall * 2 - 1)\n",
    "    print(Blank + Leaf) \n",
    "print(\" \"*(tall-1) + \"|\")"
   ]
  },
  {
   "cell_type": "markdown",
   "id": "07f67531",
   "metadata": {},
   "source": [
    "-----------------------------------------------------------------------------\n",
    "# Exercise 10\n",
    "Write a piece of code that prints the first $n$ numbers of the padovan sequence"
   ]
  },
  {
   "cell_type": "code",
   "execution_count": 65,
   "id": "d301c61b",
   "metadata": {},
   "outputs": [
    {
     "name": "stdin",
     "output_type": "stream",
     "text": [
      "Enter the number of terms in the Padovan sequence:  50\n"
     ]
    },
    {
     "name": "stdout",
     "output_type": "stream",
     "text": [
      "Padovan sequence:\n",
      "1\n",
      "1\n",
      "1\n",
      "2\n",
      "2\n",
      "3\n",
      "4\n",
      "5\n",
      "7\n",
      "9\n",
      "12\n",
      "16\n",
      "21\n",
      "28\n",
      "37\n",
      "49\n",
      "65\n",
      "86\n",
      "114\n",
      "151\n",
      "200\n",
      "265\n",
      "351\n",
      "465\n",
      "616\n",
      "816\n",
      "1081\n",
      "1432\n",
      "1897\n",
      "2513\n",
      "3329\n",
      "4410\n",
      "5842\n",
      "7739\n",
      "10252\n",
      "13581\n",
      "17991\n",
      "23833\n",
      "31572\n",
      "41824\n",
      "55405\n",
      "73396\n",
      "97229\n",
      "128801\n",
      "170625\n",
      "226030\n",
      "299426\n",
      "396655\n",
      "525456\n",
      "696081\n",
      "922111\n"
     ]
    }
   ],
   "source": [
    "def padovan_sequence(n):\n",
    "    if n == 0 or n == 1 or n == 2:\n",
    "        return 1\n",
    "    else:\n",
    "        p = [1, 1, 1]  # Starting values for P(0), P(1), and P(2)\n",
    "        for i in range(3, n + 1):\n",
    "            next_value = p[i - 2] + p[i - 3]\n",
    "            p.append(next_value)\n",
    "        return p\n",
    "\n",
    "#Execution\n",
    "n = int(input(\"Enter the number of terms in the Padovan sequence: \"))\n",
    "sequence = padovan_sequence(n)\n",
    "print(\"Padovan sequence:\")\n",
    "for number in sequence:\n",
    "    print(number)"
   ]
  },
  {
   "cell_type": "code",
   "execution_count": null,
   "id": "7cbfecd2-c3b0-4b74-93af-51dcf1bbee93",
   "metadata": {},
   "outputs": [],
   "source": [
    "\n"
   ]
  }
 ],
 "metadata": {
  "kernelspec": {
   "display_name": "Python 3 (ipykernel)",
   "language": "python",
   "name": "python3"
  },
  "language_info": {
   "codemirror_mode": {
    "name": "ipython",
    "version": 3
   },
   "file_extension": ".py",
   "mimetype": "text/x-python",
   "name": "python",
   "nbconvert_exporter": "python",
   "pygments_lexer": "ipython3",
   "version": "3.11.10"
  }
 },
 "nbformat": 4,
 "nbformat_minor": 5
}
