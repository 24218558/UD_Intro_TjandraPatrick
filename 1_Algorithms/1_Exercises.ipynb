{
 "cells": [
  {
   "cell_type": "markdown",
   "id": "38e188a5",
   "metadata": {},
   "source": [
    "# Exercise 00\n",
    "Write a piece of code that allocates a list of 20 integers and initializes each element by its index multiplied by 5. Print the result."
   ]
  },
  {
   "cell_type": "code",
   "execution_count": 1,
   "id": "01aa4f35",
   "metadata": {},
   "outputs": [
    {
     "name": "stdout",
     "output_type": "stream",
     "text": [
      "[0, 5, 10, 15, 20, 25, 30, 35, 40, 45, 50, 55, 60, 65, 70, 75, 80, 85, 90, 95]\n"
     ]
    }
   ],
   "source": [
    "Number = [i * 5 for i in range(20)]\n",
    "print(Number)\n"
   ]
  },
  {
   "cell_type": "markdown",
   "id": "529d91ae",
   "metadata": {},
   "source": [
    "# Exercise 01\n",
    "Define a function that takes an integer as input, prints  all integers that it is divisable by, and returns the largest one."
   ]
  },
  {
   "cell_type": "code",
   "execution_count": 13,
   "id": "30e79132",
   "metadata": {},
   "outputs": [],
   "source": [
    "def divide_and_large(number):\n",
    "    if number <= 0:\n",
    "        print(\"Please enter a positive number and not zero!\")\n",
    "        return None\n",
    "\n",
    "    divide = [] \n",
    "    for i in range(1, number+1):\n",
    "        if number%i == 0:\n",
    "            divide.append(i)\n",
    "            print(i)\n",
    " \n",
    "    return max(divide) if divide else None"
   ]
  },
  {
   "cell_type": "code",
   "execution_count": 14,
   "id": "38484034-7e6e-4945-adaf-3d58effe8c9c",
   "metadata": {},
   "outputs": [
    {
     "name": "stdin",
     "output_type": "stream",
     "text": [
      "Enter a positive number:  20\n"
     ]
    },
    {
     "name": "stdout",
     "output_type": "stream",
     "text": [
      "1\n",
      "2\n",
      "4\n",
      "5\n",
      "10\n",
      "20\n",
      "The largest divisor of 20 is: 20\n"
     ]
    }
   ],
   "source": [
    "angka = int(input(\"Enter a positive number: \"))\n",
    "large = divide_and_large(angka)\n",
    "\n",
    "if large is not None:\n",
    "    print(f\"The largest divisor of {angka} is: {large}\")"
   ]
  },
  {
   "cell_type": "markdown",
   "id": "cfbe30d4",
   "metadata": {},
   "source": [
    "# Exercise 02\n",
    "- create a dictionary with 6 keys and values of your choice\n",
    "- write a function that takes a dictionary and a value as input and returns whether the value occurs as a key in the dictionary\n",
    "- write a function that takes a dictionary as input, and returns the dictionary but the keys are swapped with their values (resolve the issue if a value occurs twice!)"
   ]
  },
  {
   "cell_type": "code",
   "execution_count": null,
   "id": "7cad8919-6104-410e-9e65-04095f5f40a9",
   "metadata": {},
   "outputs": [],
   "source": [
    "sampleDict = {\n",
    "    \"name\": \"Patrick\",\n",
    "    \"age\": 26,\n",
    "    \"city\": \"Jakarta\",\n",
    "    \"occupation\": \"Architect\",\n",
    "    \"hobby\": \"Tennis\",\n",
    "    \"favorite_color\": \"Blue\",\n",
    "    \"favorite_number\": 26 \n",
    "}\n",
    "\n",
    "def checkValueKey(d, value):\n",
    "    return value in d\n",
    "\n",
    "valueCheck = input(\"Enter the 'value' from sampleDict to check if it's a 'key': \")\n",
    "\n",
    "if checkValueKey(sampleDict, valueCheck):\n",
    "    print(f\"'{valueCheck}' is a key in sampleDict.\")\n",
    "else:\n",
    "    print(f\"'{valueCheck}' is not a key in sampleDict.\")"
   ]
  },
  {
   "cell_type": "code",
   "execution_count": null,
   "id": "2123f1c6",
   "metadata": {},
   "outputs": [],
   "source": [
    "#Architect-Chair Sample\n",
    "myDict = {\n",
    "    'Le Corbusier': 'LC2 Petit Confort',\n",
    "    'Ludwig Mies van der Rohe': 'Barcelona Chair',\n",
    "    'Hans Wegner': 'Wishbone Chair',\n",
    "    'Eero Saarinen': 'Tulip Chair',\n",
    "    'Arne Jacobsen': 'Egg Chair',\n",
    "    'Richard Meier': 'Meier Sofa'\n",
    "}\n",
    "\n",
    "def itemCheck(d, value):\n",
    "    return value in d\n",
    "\n",
    "def itemSwap(d):\n",
    "    dictSwap = {}\n",
    "    for architect, chair in d.items():\n",
    "        if chair not in dictSwap:\n",
    "            dictSwap[chair] = [architect]\n",
    "        else:\n",
    "            dictSwap[chair].append(architect)\n",
    "\n",
    "    for chair in dictSwap:\n",
    "        if len(dictSwap[chair]) == 1:\n",
    "            dictSwap[chair] = dictSwap[chair][0] \n",
    "\n",
    "    return dictSwap\n",
    "\n",
    "architectCheck = input(\"Enter Architect name who designed a chair: \")\n",
    "if architectCheck in myDict:\n",
    "    print(myDict[architectCheck]) \n",
    "else:\n",
    "    print(\"No, Architect is not recognize in the dictionary or not designing a chair\") \n",
    "   "
   ]
  },
  {
   "cell_type": "markdown",
   "id": "b4b4e426",
   "metadata": {},
   "source": [
    "# Exercise 03\n",
    "Define a function that creates a dictionary of the first n fibonacci numbers as values paired with their indices as keys. "
   ]
  },
  {
   "cell_type": "code",
   "execution_count": 29,
   "id": "7845b5a4",
   "metadata": {},
   "outputs": [],
   "source": [
    "def fibonacciDict(n):\n",
    "    fibNumber = {}\n",
    "    a, b = 0, 1 \n",
    "\n",
    "    for numList in range(n):\n",
    "        fibNumber[numList] = a  \n",
    "        a, b = b, a + b  \n",
    "\n",
    "    return fibNumber"
   ]
  },
  {
   "cell_type": "code",
   "execution_count": 35,
   "id": "50f82272-2d8e-4872-ae8b-c4776061622a",
   "metadata": {},
   "outputs": [
    {
     "name": "stdin",
     "output_type": "stream",
     "text": [
      "Enter Fibonacci number range:  10\n"
     ]
    },
    {
     "name": "stdout",
     "output_type": "stream",
     "text": [
      "Fibonacci dictionary:\n",
      "0: 0\n",
      "1: 1\n",
      "2: 1\n",
      "3: 2\n",
      "4: 3\n",
      "5: 5\n",
      "6: 8\n",
      "7: 13\n",
      "8: 21\n",
      "9: 34\n"
     ]
    }
   ],
   "source": [
    "n = int(input(\"Enter Fibonacci number range: \"))\n",
    "fibNum = fibonacciDict(n)\n",
    "print(\"Fibonacci dictionary:\")\n",
    "for order, value in fibNum.items():\n",
    "    print(f\"{order}: {value}\")"
   ]
  }
 ],
 "metadata": {
  "kernelspec": {
   "display_name": "Python 3 (ipykernel)",
   "language": "python",
   "name": "python3"
  },
  "language_info": {
   "codemirror_mode": {
    "name": "ipython",
    "version": 3
   },
   "file_extension": ".py",
   "mimetype": "text/x-python",
   "name": "python",
   "nbconvert_exporter": "python",
   "pygments_lexer": "ipython3",
   "version": "3.11.10"
  }
 },
 "nbformat": 4,
 "nbformat_minor": 5
}
